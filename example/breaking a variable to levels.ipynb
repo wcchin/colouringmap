{
 "cells": [
  {
   "cell_type": "markdown",
   "metadata": {},
   "source": [
    "# Breaking a variable to levels\n"
   ]
  },
  {
   "cell_type": "markdown",
   "metadata": {},
   "source": [
    "The scenario for this tutorial is that, you have a series of a variable, such as the population density of different cities. And, you need to classify them into different groups according to this variable, e.g. the very high, medium high, medium, medium low, very low population density, etc.\n",
    "\n",
    "In some cases, you already have a GeoDataFrame/DataFrame, in other cases, you just have a list that contain the numbers. So, the following cover two major functions:\n",
    "\n",
    "1. tm.leveling_vector, which take a dataframe and a column name for the classifying; and\n",
    "2. bk.get_levels, which take a list.\n",
    "\n",
    "The two functions takes a break_method for the breaking methods, such as quantile(default), head_tail_break, natural_break, equal_interval (and manual).\n",
    "\n",
    "They take a break_N parameter, for specifying the number of groups.\n",
    "\n",
    "And they also take a break_cuts. "
   ]
  },
  {
   "cell_type": "markdown",
   "metadata": {},
   "source": [
    "First, import things that is needed."
   ]
  },
  {
   "cell_type": "code",
   "execution_count": 53,
   "metadata": {
    "collapsed": true
   },
   "outputs": [],
   "source": [
    "import geopandas as gpd # for reading and manupulating shapefile\n",
    "import matplotlib.pyplot as plt # for making figure\n",
    "import seaborn as sns # for making distplot\n",
    "\n",
    "from colouringmap import theme_mapping as tm # a function named leveling_vector in tm will be used\n",
    "from colouringmap import breaking_levels as bk # a function named get_levels in bk will be used\n",
    "\n",
    "# magic line for matlotlib figure to be shown inline in jupyter cell\n",
    "%matplotlib inline "
   ]
  },
  {
   "cell_type": "markdown",
   "metadata": {},
   "source": [
    "read a demo file, and take a look"
   ]
  },
  {
   "cell_type": "code",
   "execution_count": 3,
   "metadata": {
    "scrolled": false
   },
   "outputs": [
    {
     "data": {
      "text/html": [
       "<div>\n",
       "<style>\n",
       "    .dataframe thead tr:only-child th {\n",
       "        text-align: right;\n",
       "    }\n",
       "\n",
       "    .dataframe thead th {\n",
       "        text-align: left;\n",
       "    }\n",
       "\n",
       "    .dataframe tbody tr th {\n",
       "        vertical-align: top;\n",
       "    }\n",
       "</style>\n",
       "<table border=\"1\" class=\"dataframe\">\n",
       "  <thead>\n",
       "    <tr style=\"text-align: right;\">\n",
       "      <th></th>\n",
       "      <th>com</th>\n",
       "      <th>geometry</th>\n",
       "      <th>node</th>\n",
       "      <th>tweets</th>\n",
       "      <th>usercount</th>\n",
       "      <th>xcor</th>\n",
       "      <th>ycor</th>\n",
       "    </tr>\n",
       "  </thead>\n",
       "  <tbody>\n",
       "    <tr>\n",
       "      <th>0</th>\n",
       "      <td>14</td>\n",
       "      <td>POLYGON ((175239.9457184017 3947195.841823581,...</td>\n",
       "      <td>0</td>\n",
       "      <td>1</td>\n",
       "      <td>1</td>\n",
       "      <td>139.939807</td>\n",
       "      <td>35.640542</td>\n",
       "    </tr>\n",
       "    <tr>\n",
       "      <th>1</th>\n",
       "      <td>56</td>\n",
       "      <td>POLYGON ((175239.9457767347 3947695.841815081,...</td>\n",
       "      <td>1</td>\n",
       "      <td>0</td>\n",
       "      <td>0</td>\n",
       "      <td>139.939919</td>\n",
       "      <td>35.645048</td>\n",
       "    </tr>\n",
       "    <tr>\n",
       "      <th>2</th>\n",
       "      <td>1</td>\n",
       "      <td>POLYGON ((142239.9457464929 3956695.841823446,...</td>\n",
       "      <td>10</td>\n",
       "      <td>35</td>\n",
       "      <td>21</td>\n",
       "      <td>139.576848</td>\n",
       "      <td>35.731640</td>\n",
       "    </tr>\n",
       "    <tr>\n",
       "      <th>3</th>\n",
       "      <td>18</td>\n",
       "      <td>POLYGON ((144239.9457266586 3959695.841818351,...</td>\n",
       "      <td>100</td>\n",
       "      <td>40</td>\n",
       "      <td>32</td>\n",
       "      <td>139.599535</td>\n",
       "      <td>35.758373</td>\n",
       "    </tr>\n",
       "    <tr>\n",
       "      <th>4</th>\n",
       "      <td>4</td>\n",
       "      <td>POLYGON ((154239.9457194024 3947195.841822605,...</td>\n",
       "      <td>1000</td>\n",
       "      <td>1898</td>\n",
       "      <td>660</td>\n",
       "      <td>139.707733</td>\n",
       "      <td>35.644166</td>\n",
       "    </tr>\n",
       "  </tbody>\n",
       "</table>\n",
       "</div>"
      ],
      "text/plain": [
       "   com                                           geometry  node  tweets  \\\n",
       "0   14  POLYGON ((175239.9457184017 3947195.841823581,...     0       1   \n",
       "1   56  POLYGON ((175239.9457767347 3947695.841815081,...     1       0   \n",
       "2    1  POLYGON ((142239.9457464929 3956695.841823446,...    10      35   \n",
       "3   18  POLYGON ((144239.9457266586 3959695.841818351,...   100      40   \n",
       "4    4  POLYGON ((154239.9457194024 3947195.841822605,...  1000    1898   \n",
       "\n",
       "   usercount        xcor       ycor  \n",
       "0          1  139.939807  35.640542  \n",
       "1          0  139.939919  35.645048  \n",
       "2         21  139.576848  35.731640  \n",
       "3         32  139.599535  35.758373  \n",
       "4        660  139.707733  35.644166  "
      ]
     },
     "execution_count": 3,
     "metadata": {},
     "output_type": "execute_result"
    }
   ],
   "source": [
    "grid_res = gpd.read_file('data/community_results.shp')\n",
    "grid_res.head()"
   ]
  },
  {
   "cell_type": "markdown",
   "metadata": {},
   "source": [
    "take a look at the data distribution. using seaborn distplot."
   ]
  },
  {
   "cell_type": "code",
   "execution_count": 7,
   "metadata": {},
   "outputs": [
    {
     "data": {
      "text/plain": [
       "<matplotlib.axes._subplots.AxesSubplot at 0x7f9081987e90>"
      ]
     },
     "execution_count": 7,
     "metadata": {},
     "output_type": "execute_result"
    },
    {
     "data": {
      "image/png": "[encoded data removed]",
      "text/plain": [
       "<matplotlib.figure.Figure at 0x7f90819a2610>"
      ]
     },
     "metadata": {},
     "output_type": "display_data"
    }
   ],
   "source": [
    "sns.distplot(grid_res['usercount'], kde=False)"
   ]
  },
  {
   "cell_type": "markdown",
   "metadata": {},
   "source": [
    "the above plot showed that the data is potentially an exponential distribution.\n",
    "so lets try to make the yscale log."
   ]
  },
  {
   "cell_type": "code",
   "execution_count": 58,
   "metadata": {},
   "outputs": [
    {
     "data": {
      "image/png": "[encoded data removed]",
      "text/plain": [
       "<matplotlib.figure.Figure at 0x7f9081073d90>"
      ]
     },
     "metadata": {},
     "output_type": "display_data"
    }
   ],
   "source": [
    "ax = sns.distplot(grid_res['usercount'], kde=False)\n",
    "#ax.set_xscale(\"log\", nonposx='clip')\n",
    "ax.set_yscale(\"log\", nonposy='clip')\n"
   ]
  },
  {
   "cell_type": "markdown",
   "metadata": {},
   "source": [
    "## using different break method:\n",
    "\n",
    "1. quantile\n",
    "2. head_tail_break\n",
    "3. natural_break\n",
    "4. equal_interval"
   ]
  },
  {
   "cell_type": "markdown",
   "metadata": {},
   "source": [
    "the following is the most simple way of converting the column of a gdf to levels"
   ]
  },
  {
   "cell_type": "code",
   "execution_count": 29,
   "metadata": {
    "collapsed": true
   },
   "outputs": [],
   "source": [
    "level_list, cuts = tm.leveling_vector(grid_res, 'usercount') #, break_method='quantile') #default method is quantile"
   ]
  },
  {
   "cell_type": "markdown",
   "metadata": {},
   "source": [
    "Normally, the level_list is used to be assign to the gdf. This is what I did in other functions of mapping."
   ]
  },
  {
   "cell_type": "code",
   "execution_count": 18,
   "metadata": {},
   "outputs": [],
   "source": [
    "grid_res['user_level'] = level_list"
   ]
  },
  {
   "cell_type": "code",
   "execution_count": 24,
   "metadata": {},
   "outputs": [
    {
     "data": {
      "text/html": [
       "<div>\n",
       "<style>\n",
       "    .dataframe thead tr:only-child th {\n",
       "        text-align: right;\n",
       "    }\n",
       "\n",
       "    .dataframe thead th {\n",
       "        text-align: left;\n",
       "    }\n",
       "\n",
       "    .dataframe tbody tr th {\n",
       "        vertical-align: top;\n",
       "    }\n",
       "</style>\n",
       "<table border=\"1\" class=\"dataframe\">\n",
       "  <thead>\n",
       "    <tr style=\"text-align: right;\">\n",
       "      <th></th>\n",
       "      <th>com</th>\n",
       "      <th>geometry</th>\n",
       "      <th>node</th>\n",
       "      <th>tweets</th>\n",
       "      <th>usercount</th>\n",
       "      <th>xcor</th>\n",
       "      <th>ycor</th>\n",
       "      <th>user_level</th>\n",
       "    </tr>\n",
       "  </thead>\n",
       "  <tbody>\n",
       "    <tr>\n",
       "      <th>0</th>\n",
       "      <td>14</td>\n",
       "      <td>POLYGON ((175239.9457184017 3947195.841823581,...</td>\n",
       "      <td>0</td>\n",
       "      <td>1</td>\n",
       "      <td>1</td>\n",
       "      <td>139.939807</td>\n",
       "      <td>35.640542</td>\n",
       "      <td>0</td>\n",
       "    </tr>\n",
       "    <tr>\n",
       "      <th>1</th>\n",
       "      <td>56</td>\n",
       "      <td>POLYGON ((175239.9457767347 3947695.841815081,...</td>\n",
       "      <td>1</td>\n",
       "      <td>0</td>\n",
       "      <td>0</td>\n",
       "      <td>139.939919</td>\n",
       "      <td>35.645048</td>\n",
       "      <td>0</td>\n",
       "    </tr>\n",
       "    <tr>\n",
       "      <th>2</th>\n",
       "      <td>1</td>\n",
       "      <td>POLYGON ((142239.9457464929 3956695.841823446,...</td>\n",
       "      <td>10</td>\n",
       "      <td>35</td>\n",
       "      <td>21</td>\n",
       "      <td>139.576848</td>\n",
       "      <td>35.731640</td>\n",
       "      <td>2</td>\n",
       "    </tr>\n",
       "    <tr>\n",
       "      <th>3</th>\n",
       "      <td>18</td>\n",
       "      <td>POLYGON ((144239.9457266586 3959695.841818351,...</td>\n",
       "      <td>100</td>\n",
       "      <td>40</td>\n",
       "      <td>32</td>\n",
       "      <td>139.599535</td>\n",
       "      <td>35.758373</td>\n",
       "      <td>2</td>\n",
       "    </tr>\n",
       "    <tr>\n",
       "      <th>4</th>\n",
       "      <td>4</td>\n",
       "      <td>POLYGON ((154239.9457194024 3947195.841822605,...</td>\n",
       "      <td>1000</td>\n",
       "      <td>1898</td>\n",
       "      <td>660</td>\n",
       "      <td>139.707733</td>\n",
       "      <td>35.644166</td>\n",
       "      <td>4</td>\n",
       "    </tr>\n",
       "  </tbody>\n",
       "</table>\n",
       "</div>"
      ],
      "text/plain": [
       "   com                                           geometry  node  tweets  \\\n",
       "0   14  POLYGON ((175239.9457184017 3947195.841823581,...     0       1   \n",
       "1   56  POLYGON ((175239.9457767347 3947695.841815081,...     1       0   \n",
       "2    1  POLYGON ((142239.9457464929 3956695.841823446,...    10      35   \n",
       "3   18  POLYGON ((144239.9457266586 3959695.841818351,...   100      40   \n",
       "4    4  POLYGON ((154239.9457194024 3947195.841822605,...  1000    1898   \n",
       "\n",
       "   usercount        xcor       ycor  user_level  \n",
       "0          1  139.939807  35.640542           0  \n",
       "1          0  139.939919  35.645048           0  \n",
       "2         21  139.576848  35.731640           2  \n",
       "3         32  139.599535  35.758373           2  \n",
       "4        660  139.707733  35.644166           4  "
      ]
     },
     "execution_count": 24,
     "metadata": {},
     "output_type": "execute_result"
    }
   ],
   "source": [
    "grid_res.head()"
   ]
  },
  {
   "cell_type": "markdown",
   "metadata": {},
   "source": [
    "cuts contain the breaking values, and the min/max at the both end of the list."
   ]
  },
  {
   "cell_type": "code",
   "execution_count": 30,
   "metadata": {},
   "outputs": [
    {
     "data": {
      "text/plain": [
       "[0.0, 5.0, 14.0, 32.0, 103.0, 4506.0]"
      ]
     },
     "execution_count": 30,
     "metadata": {},
     "output_type": "execute_result"
    }
   ],
   "source": [
    "cuts"
   ]
  },
  {
   "cell_type": "code",
   "execution_count": 31,
   "metadata": {},
   "outputs": [
    {
     "data": {
      "image/png": "[encoded data removed]",
      "text/plain": [
       "<matplotlib.figure.Figure at 0x7f908076c8d0>"
      ]
     },
     "metadata": {},
     "output_type": "display_data"
    }
   ],
   "source": [
    "ax = sns.distplot(grid_res['usercount'], kde=False)\n",
    "#ax.set_xscale(\"log\", nonposx='clip')\n",
    "ax.set_yscale(\"log\", nonposy='clip')\n",
    "for c in cuts:\n",
    "    ax.axvline(x=c)"
   ]
  },
  {
   "cell_type": "code",
   "execution_count": 32,
   "metadata": {},
   "outputs": [
    {
     "name": "stdout",
     "output_type": "stream",
     "text": [
      "[0, 1, 2, 3, 4]\n",
      "[568, 585, 531, 550, 554]\n"
     ]
    }
   ],
   "source": [
    "lev = list(set(level_list))\n",
    "count = [ level_list.count(l) for l in lev ]\n",
    "print lev\n",
    "print count"
   ]
  },
  {
   "cell_type": "markdown",
   "metadata": {},
   "source": [
    "quantile has a similar count for each level."
   ]
  },
  {
   "cell_type": "markdown",
   "metadata": {},
   "source": [
    "Lets try some other break method."
   ]
  },
  {
   "cell_type": "code",
   "execution_count": 33,
   "metadata": {},
   "outputs": [
    {
     "name": "stdout",
     "output_type": "stream",
     "text": [
      "[0.0, 111.01004304160689, 483.8207547169811, 1173.1554054054054, 2146.409090909091, 4506.0]\n"
     ]
    }
   ],
   "source": [
    "level_list, cuts = tm.leveling_vector(grid_res, 'usercount', break_method='head_tail_break')\n",
    "print cuts"
   ]
  },
  {
   "cell_type": "code",
   "execution_count": 34,
   "metadata": {},
   "outputs": [
    {
     "data": {
      "image/png": "[encoded data removed]",
      "text/plain": [
       "<matplotlib.figure.Figure at 0x7f908146f7d0>"
      ]
     },
     "metadata": {},
     "output_type": "display_data"
    }
   ],
   "source": [
    "ax = sns.distplot(grid_res['usercount'], kde=False)\n",
    "#ax.set_xscale(\"log\", nonposx='clip')\n",
    "ax.set_yscale(\"log\", nonposy='clip')\n",
    "for c in cuts:\n",
    "    ax.axvline(x=c)"
   ]
  },
  {
   "cell_type": "code",
   "execution_count": 35,
   "metadata": {},
   "outputs": [
    {
     "name": "stdout",
     "output_type": "stream",
     "text": [
      "[0, 1, 2, 3, 4]\n",
      "[2258, 382, 104, 28, 16]\n"
     ]
    }
   ],
   "source": [
    "lev = list(set(level_list))\n",
    "count = [ level_list.count(l) for l in lev ]\n",
    "print lev\n",
    "print count"
   ]
  },
  {
   "cell_type": "code",
   "execution_count": 36,
   "metadata": {},
   "outputs": [
    {
     "name": "stdout",
     "output_type": "stream",
     "text": [
      "[0.0, 183.0, 644.0, 1465.0, 2677.0, 4506.0]\n"
     ]
    }
   ],
   "source": [
    "level_list, cuts = tm.leveling_vector(grid_res, 'usercount', break_method='natural_break')\n",
    "print cuts"
   ]
  },
  {
   "cell_type": "code",
   "execution_count": 37,
   "metadata": {},
   "outputs": [
    {
     "data": {
      "image/png": "[encoded data removed]",
      "text/plain": [
       "<matplotlib.figure.Figure at 0x7f9081018110>"
      ]
     },
     "metadata": {},
     "output_type": "display_data"
    }
   ],
   "source": [
    "ax = sns.distplot(grid_res['usercount'], kde=False)\n",
    "#ax.set_xscale(\"log\", nonposx='clip')\n",
    "ax.set_yscale(\"log\", nonposy='clip')\n",
    "for c in cuts:\n",
    "    ax.axvline(x=c)"
   ]
  },
  {
   "cell_type": "code",
   "execution_count": 38,
   "metadata": {},
   "outputs": [
    {
     "name": "stdout",
     "output_type": "stream",
     "text": [
      "[0, 1, 2, 3, 4]\n",
      "[2445, 236, 78, 19, 10]\n"
     ]
    }
   ],
   "source": [
    "lev = list(set(level_list))\n",
    "count = [ level_list.count(l) for l in lev ]\n",
    "print lev\n",
    "print count"
   ]
  },
  {
   "cell_type": "code",
   "execution_count": 39,
   "metadata": {},
   "outputs": [
    {
     "name": "stdout",
     "output_type": "stream",
     "text": [
      "[0.0, 901.2, 1802.4, 2703.6000000000004, 3604.8, 4506.0]\n"
     ]
    }
   ],
   "source": [
    "level_list, cuts = tm.leveling_vector(grid_res, 'usercount', break_method='equal_interval')\n",
    "print cuts"
   ]
  },
  {
   "cell_type": "code",
   "execution_count": 40,
   "metadata": {},
   "outputs": [
    {
     "data": {
      "image/png": "[encoded data removed]",
      "text/plain": [
       "<matplotlib.figure.Figure at 0x7f9080a988d0>"
      ]
     },
     "metadata": {},
     "output_type": "display_data"
    }
   ],
   "source": [
    "ax = sns.distplot(grid_res['usercount'], kde=False)\n",
    "#ax.set_xscale(\"log\", nonposx='clip')\n",
    "ax.set_yscale(\"log\", nonposy='clip')\n",
    "for c in cuts:\n",
    "    ax.axvline(x=c)"
   ]
  },
  {
   "cell_type": "code",
   "execution_count": 41,
   "metadata": {},
   "outputs": [
    {
     "name": "stdout",
     "output_type": "stream",
     "text": [
      "[0, 1, 2, 3, 4]\n",
      "[2713, 53, 12, 3, 7]\n"
     ]
    }
   ],
   "source": [
    "lev = list(set(level_list))\n",
    "count = [ level_list.count(l) for l in lev ]\n",
    "print lev\n",
    "print count"
   ]
  },
  {
   "cell_type": "markdown",
   "metadata": {},
   "source": [
    "## specifying the number of level"
   ]
  },
  {
   "cell_type": "markdown",
   "metadata": {},
   "source": [
    "The number of level is set to the parameter break_N, which is default to 5.\n",
    "\n",
    "After setting the break_N to N, the number of cuts become N+1, because it contain both the largest and the smallest values."
   ]
  },
  {
   "cell_type": "code",
   "execution_count": 43,
   "metadata": {},
   "outputs": [
    {
     "name": "stdout",
     "output_type": "stream",
     "text": [
      "[0.0, 111.01004304160689, 483.8207547169811, 4506.0]\n"
     ]
    }
   ],
   "source": [
    "level_list, cuts = tm.leveling_vector(grid_res, 'usercount', break_method='head_tail_break', break_N=3)\n",
    "print cuts"
   ]
  },
  {
   "cell_type": "code",
   "execution_count": 44,
   "metadata": {},
   "outputs": [
    {
     "name": "stdout",
     "output_type": "stream",
     "text": [
      "[0.0, 111.01004304160689, 483.8207547169811, 1173.1554054054054, 2146.409090909091, 4506.0]\n"
     ]
    }
   ],
   "source": [
    "level_list, cuts = tm.leveling_vector(grid_res, 'usercount', break_method='head_tail_break', break_N=5)\n",
    "print cuts"
   ]
  },
  {
   "cell_type": "code",
   "execution_count": 45,
   "metadata": {},
   "outputs": [
    {
     "name": "stdout",
     "output_type": "stream",
     "text": [
      "[0.0, 111.01004304160689, 483.8207547169811, 1173.1554054054054, 2146.409090909091, 3247.6875, 3889.375, 4506.0]\n"
     ]
    }
   ],
   "source": [
    "level_list, cuts = tm.leveling_vector(grid_res, 'usercount', break_method='head_tail_break', break_N=7)\n",
    "print cuts"
   ]
  },
  {
   "cell_type": "code",
   "execution_count": 46,
   "metadata": {},
   "outputs": [
    {
     "name": "stdout",
     "output_type": "stream",
     "text": [
      "[0.0, 111.01004304160689, 483.8207547169811, 1173.1554054054054, 2146.409090909091, 3247.6875, 3889.375, 4475.0, 4506.0, 4506.0]\n"
     ]
    }
   ],
   "source": [
    "level_list, cuts = tm.leveling_vector(grid_res, 'usercount', break_method='head_tail_break', break_N=9)\n",
    "print cuts"
   ]
  },
  {
   "cell_type": "markdown",
   "metadata": {},
   "source": [
    "note that what head_tail_break do for increased number of levels. "
   ]
  },
  {
   "cell_type": "markdown",
   "metadata": {},
   "source": [
    "## specifying cuts manually"
   ]
  },
  {
   "cell_type": "markdown",
   "metadata": {},
   "source": [
    "There are two ways of using the cuts. This will return a cut list, and a level_list that is in the same length and same sequence with the input vector. \n",
    "\n",
    "1. using quantile as method, and the cuts are some float numbers betweent 0-1. \n",
    "2. using manual as method, and the cuts are some user defined cuts. \n",
    "\n",
    "\n",
    "NOTE that the cut list has to include the minimum and maximum values. \n"
   ]
  },
  {
   "cell_type": "code",
   "execution_count": 55,
   "metadata": {},
   "outputs": [
    {
     "name": "stdout",
     "output_type": "stream",
     "text": [
      "[0.0, 0.0, 7.0, 21.0, 70.0, 4506.0]\n"
     ]
    }
   ],
   "source": [
    "level_list, cuts = tm.leveling_vector(grid_res, 'usercount', break_method='quantile', break_cuts=[0.,.25,.5,.75,1.])\n",
    "print cuts"
   ]
  },
  {
   "cell_type": "code",
   "execution_count": 56,
   "metadata": {},
   "outputs": [
    {
     "name": "stdout",
     "output_type": "stream",
     "text": [
      "[0.0, 0.0, 2.0, 21.0, 1581.7200000000048, 4506.0]\n"
     ]
    }
   ],
   "source": [
    "level_list, cuts = tm.leveling_vector(grid_res, 'usercount', break_method='quantile', break_cuts=[0.,0.1,.5,.99,1.])\n",
    "print cuts"
   ]
  },
  {
   "cell_type": "code",
   "execution_count": 57,
   "metadata": {},
   "outputs": [
    {
     "name": "stdout",
     "output_type": "stream",
     "text": [
      "[0.0, 0.0, 120, 490, 1200, 2200, 4506.0]\n"
     ]
    }
   ],
   "source": [
    "level_list, cuts = tm.leveling_vector(grid_res, 'usercount', break_method='manual', break_cuts=[0.0, 120, 490, 1200, 2200, 4506.0])\n",
    "print cuts"
   ]
  },
  {
   "cell_type": "markdown",
   "metadata": {},
   "source": [
    "## breaking a list instead of a column of a dataframe"
   ]
  },
  {
   "cell_type": "markdown",
   "metadata": {},
   "source": [
    "Let say you have a list, instead of a dataframe/geodataframe."
   ]
  },
  {
   "cell_type": "code",
   "execution_count": 47,
   "metadata": {
    "collapsed": true
   },
   "outputs": [],
   "source": [
    "a_list = grid_res['usercount'].tolist()"
   ]
  },
  {
   "cell_type": "markdown",
   "metadata": {},
   "source": [
    "And you want to get the break levels, another function is also provided (the function that is called by tm.leveling_vector)."
   ]
  },
  {
   "cell_type": "code",
   "execution_count": 49,
   "metadata": {
    "collapsed": true
   },
   "outputs": [],
   "source": [
    "level_list, cuts = bk.get_levels(a_list, method='head_tail_break', N=5)"
   ]
  },
  {
   "cell_type": "code",
   "execution_count": 50,
   "metadata": {},
   "outputs": [
    {
     "name": "stdout",
     "output_type": "stream",
     "text": [
      "[0.0, 183.0, 644.0, 1465.0, 2677.0, 4506.0]\n"
     ]
    }
   ],
   "source": [
    "print cuts"
   ]
  },
  {
   "cell_type": "code",
   "execution_count": 52,
   "metadata": {},
   "outputs": [
    {
     "data": {
      "text/plain": [
       "True"
      ]
     },
     "execution_count": 52,
     "metadata": {},
     "output_type": "execute_result"
    }
   ],
   "source": [
    "len(level_list)==len(a_list)"
   ]
  },
  {
   "cell_type": "markdown",
   "metadata": {},
   "source": [
    "The resulting level_list is in the same sequence as the input a_list."
   ]
  },
  {
   "cell_type": "code",
   "execution_count": null,
   "metadata": {
    "collapsed": true
   },
   "outputs": [],
   "source": []
  }
 ],
 "metadata": {
  "kernelspec": {
   "display_name": "Python 2",
   "language": "python",
   "name": "python2"
  },
  "language_info": {
   "codemirror_mode": {
    "name": "ipython",
    "version": 2
   },
   "file_extension": ".py",
   "mimetype": "text/x-python",
   "name": "python",
   "nbconvert_exporter": "python",
   "pygments_lexer": "ipython2",
   "version": "2.7.13"
  }
 },
 "nbformat": 4,
 "nbformat_minor": 2
}
